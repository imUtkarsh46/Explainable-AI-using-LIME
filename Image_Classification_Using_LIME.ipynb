{
 "cells": [
  {
   "cell_type": "code",
   "execution_count": 1,
   "metadata": {},
   "outputs": [
    {
     "name": "stdout",
     "output_type": "stream",
     "text": [
      "/home/akashchaurasia/Utkarsh/Learning_Projects/LIME\n"
     ]
    }
   ],
   "source": [
    "%cd /home/akashchaurasia/Utkarsh/Learning_Projects/LIME"
   ]
  },
  {
   "cell_type": "markdown",
   "metadata": {},
   "source": [
    "https://towardsdatascience.com/interpreting-image-classification-model-with-lime-1e7064a2f2e5"
   ]
  },
  {
   "cell_type": "code",
   "execution_count": 2,
   "metadata": {},
   "outputs": [
    {
     "name": "stderr",
     "output_type": "stream",
     "text": [
      "2022-12-28 17:40:34.306886: I tensorflow/core/platform/cpu_feature_guard.cc:193] This TensorFlow binary is optimized with oneAPI Deep Neural Network Library (oneDNN) to use the following CPU instructions in performance-critical operations:  AVX2 FMA\n",
      "To enable them in other operations, rebuild TensorFlow with the appropriate compiler flags.\n",
      "2022-12-28 17:40:36.327881: W tensorflow/compiler/xla/stream_executor/platform/default/dso_loader.cc:64] Could not load dynamic library 'libcudart.so.11.0'; dlerror: libcudart.so.11.0: cannot open shared object file: No such file or directory\n",
      "2022-12-28 17:40:36.327905: I tensorflow/compiler/xla/stream_executor/cuda/cudart_stub.cc:29] Ignore above cudart dlerror if you do not have a GPU set up on your machine.\n",
      "2022-12-28 17:40:38.336526: W tensorflow/compiler/xla/stream_executor/platform/default/dso_loader.cc:64] Could not load dynamic library 'libnvinfer.so.7'; dlerror: libnvinfer.so.7: cannot open shared object file: No such file or directory\n",
      "2022-12-28 17:40:38.336630: W tensorflow/compiler/xla/stream_executor/platform/default/dso_loader.cc:64] Could not load dynamic library 'libnvinfer_plugin.so.7'; dlerror: libnvinfer_plugin.so.7: cannot open shared object file: No such file or directory\n",
      "2022-12-28 17:40:38.336640: W tensorflow/compiler/tf2tensorrt/utils/py_utils.cc:38] TF-TRT Warning: Cannot dlopen some TensorRT libraries. If you would like to use Nvidia GPU with TensorRT, please make sure the missing libraries mentioned above are installed properly.\n",
      "/home/akashchaurasia/.local/lib/python3.8/site-packages/scipy/__init__.py:146: UserWarning: A NumPy version >=1.16.5 and <1.23.0 is required for this version of SciPy (detected version 1.23.5\n",
      "  warnings.warn(f\"A NumPy version >={np_minversion} and <{np_maxversion}\"\n"
     ]
    },
    {
     "name": "stdout",
     "output_type": "stream",
     "text": [
      "Found 2400 images belonging to 3 classes.\n",
      "Found 600 images belonging to 3 classes.\n"
     ]
    }
   ],
   "source": [
    "from tensorflow.keras.layers import Conv2D, MaxPooling2D, Flatten, Dense, Dropout, Activation, BatchNormalization\n",
    "from tensorflow.keras.models import Sequential, Model\n",
    "from tensorflow.keras.optimizers import Adam\n",
    "from tensorflow.keras.preprocessing.image import ImageDataGenerator,DirectoryIterator\n",
    "from tensorflow.keras.datasets import mnist\n",
    "import numpy as np\n",
    "import matplotlib.pyplot as plt\n",
    "import matplotlib.image as mpimg\n",
    "from keras import backend as K\n",
    "import os\n",
    "import tensorflow as tf\n",
    "\n",
    "# Path to train and test directory\n",
    "dir_ = os.path.join('dog-cat-panda/')\n",
    "\n",
    "\n",
    "# Generate training and test data with Image Generator\n",
    "train_datagen = ImageDataGenerator(rescale=1/255,\n",
    "                                  validation_split = 0.2)\n",
    "\n",
    "\n",
    "train_generator = train_datagen.flow_from_directory(dir_,target_size=(100, 100),\n",
    "                                                   batch_size= 1920,\n",
    "                                                   class_mode='categorical',\n",
    "                                                   shuffle=False,\n",
    "                                                   subset = 'training')\n",
    "\n",
    "test_generator = train_datagen.flow_from_directory(dir_,\n",
    "                                                          target_size = (100,100),\n",
    "                                                          batch_size = 480,\n",
    "                                                          class_mode = 'categorical',\n",
    "                                                          shuffle=False,\n",
    "                                                          subset = 'validation')\n",
    "\n",
    "\n",
    "# Fetch the data and the labels\n",
    "x_train, y_train = next(train_generator)\n",
    "x_test, y_test  = next(test_generator)\n",
    "\n",
    "# Fix the filepath\n",
    "test_filepath = []\n",
    "for filepath in test_generator.filepaths:\n",
    "    filepath = filepath.replace('\\\\', '/')\n",
    "    test_filepath.append(filepath)"
   ]
  },
  {
   "cell_type": "code",
   "execution_count": 2,
   "metadata": {},
   "outputs": [],
   "source": [
    "# model = Sequential([\n",
    "    \n",
    "#     # First convolution\n",
    "#         Conv2D(16, (3,3), activation='relu', input_shape=(100, 100, 3)),\n",
    "#         MaxPooling2D(2, 2),\n",
    "    \n",
    "#     # Second convolution\n",
    "#         Conv2D(32, (3,3), activation='relu'),\n",
    "#         MaxPooling2D(2,2),\n",
    "    \n",
    "#     # Third convolution\n",
    "#         Conv2D(64, (3,3), activation='relu'),\n",
    "#         MaxPooling2D(2,2),\n",
    "    \n",
    "#         Flatten(),\n",
    "    \n",
    "#     # Dense hidden layer\n",
    "#         Dense(512, activation='relu'),\n",
    "#         Dropout(0.2),\n",
    "    \n",
    "#     # Output neuron. \n",
    "#         Dense(3, activation='softmax') \n",
    "# ])\n",
    "# model.summary()"
   ]
  },
  {
   "cell_type": "code",
   "execution_count": 6,
   "metadata": {},
   "outputs": [
    {
     "name": "stdout",
     "output_type": "stream",
     "text": [
      "Model: \"sequential\"\n",
      "_________________________________________________________________\n",
      " Layer (type)                Output Shape              Param #   \n",
      "=================================================================\n",
      " conv2d (Conv2D)             (None, 98, 98, 256)       7168      \n",
      "                                                                 \n",
      " max_pooling2d (MaxPooling2D  (None, 49, 49, 256)      0         \n",
      " )                                                               \n",
      "                                                                 \n",
      " conv2d_1 (Conv2D)           (None, 47, 47, 128)       295040    \n",
      "                                                                 \n",
      " max_pooling2d_1 (MaxPooling  (None, 23, 23, 128)      0         \n",
      " 2D)                                                             \n",
      "                                                                 \n",
      " batch_normalization (BatchN  (None, 23, 23, 128)      512       \n",
      " ormalization)                                                   \n",
      "                                                                 \n",
      " dropout (Dropout)           (None, 23, 23, 128)       0         \n",
      "                                                                 \n",
      " conv2d_2 (Conv2D)           (None, 21, 21, 64)        73792     \n",
      "                                                                 \n",
      " max_pooling2d_2 (MaxPooling  (None, 10, 10, 64)       0         \n",
      " 2D)                                                             \n",
      "                                                                 \n",
      " conv2d_3 (Conv2D)           (None, 8, 8, 128)         73856     \n",
      "                                                                 \n",
      " max_pooling2d_3 (MaxPooling  (None, 4, 4, 128)        0         \n",
      " 2D)                                                             \n",
      "                                                                 \n",
      " batch_normalization_1 (Batc  (None, 4, 4, 128)        512       \n",
      " hNormalization)                                                 \n",
      "                                                                 \n",
      " dropout_1 (Dropout)         (None, 4, 4, 128)         0         \n",
      "                                                                 \n",
      " conv2d_4 (Conv2D)           (None, 2, 2, 256)         295168    \n",
      "                                                                 \n",
      " max_pooling2d_4 (MaxPooling  (None, 1, 1, 256)        0         \n",
      " 2D)                                                             \n",
      "                                                                 \n",
      " flatten (Flatten)           (None, 256)               0         \n",
      "                                                                 \n",
      " dense (Dense)               (None, 512)               131584    \n",
      "                                                                 \n",
      " dropout_2 (Dropout)         (None, 512)               0         \n",
      "                                                                 \n",
      " dense_1 (Dense)             (None, 64)                32832     \n",
      "                                                                 \n",
      " dense_2 (Dense)             (None, 3)                 195       \n",
      "                                                                 \n",
      "=================================================================\n",
      "Total params: 910,659\n",
      "Trainable params: 910,147\n",
      "Non-trainable params: 512\n",
      "_________________________________________________________________\n"
     ]
    },
    {
     "name": "stderr",
     "output_type": "stream",
     "text": [
      "2022-12-28 17:16:40.949333: E tensorflow/compiler/xla/stream_executor/cuda/cuda_driver.cc:267] failed call to cuInit: CUDA_ERROR_NO_DEVICE: no CUDA-capable device is detected\n",
      "2022-12-28 17:16:40.949414: I tensorflow/compiler/xla/stream_executor/cuda/cuda_diagnostics.cc:156] kernel driver does not appear to be running on this host (utkarshchalsey): /proc/driver/nvidia/version does not exist\n",
      "2022-12-28 17:16:40.952435: I tensorflow/core/platform/cpu_feature_guard.cc:193] This TensorFlow binary is optimized with oneAPI Deep Neural Network Library (oneDNN) to use the following CPU instructions in performance-critical operations:  AVX2 FMA\n",
      "To enable them in other operations, rebuild TensorFlow with the appropriate compiler flags.\n"
     ]
    }
   ],
   "source": [
    "model = Sequential([\n",
    "    \n",
    "    # First convolution\n",
    "        Conv2D(256, (3,3), activation='relu', input_shape=(100, 100, 3)),\n",
    "        MaxPooling2D(2, 2),\n",
    "    \n",
    "    # Second convolution\n",
    "        Conv2D(128, (3,3), activation='relu'),\n",
    "        MaxPooling2D(2,2),\n",
    "        BatchNormalization(),\n",
    "        Dropout(0.5),\n",
    "    \n",
    "    # Third convolution\n",
    "        Conv2D(64, (3,3), activation='relu'),\n",
    "        MaxPooling2D(2,2),\n",
    "\n",
    "        Conv2D(128, (3,3), activation='relu'),\n",
    "        MaxPooling2D(2,2),\n",
    "        BatchNormalization(),\n",
    "        Dropout(0.5),\n",
    "\n",
    "        Conv2D(256, (3,3), activation='relu'),\n",
    "        MaxPooling2D(2,2),\n",
    "    \n",
    "        Flatten(),\n",
    "    \n",
    "    # Dense hidden layer\n",
    "        Dense(512, activation='relu'),\n",
    "        Dropout(0.5),\n",
    "        Dense(64, activation='relu'),\n",
    "    \n",
    "    # Output neuron. \n",
    "        Dense(3, activation='softmax') \n",
    "])\n",
    "model.summary()"
   ]
  },
  {
   "cell_type": "code",
   "execution_count": 4,
   "metadata": {},
   "outputs": [
    {
     "name": "stdout",
     "output_type": "stream",
     "text": [
      "Model: \"sequential_1\"\n",
      "_________________________________________________________________\n",
      " Layer (type)                Output Shape              Param #   \n",
      "=================================================================\n",
      " conv2d_5 (Conv2D)           (None, 100, 100, 256)     7168      \n",
      "                                                                 \n",
      " max_pooling2d_5 (MaxPooling  (None, 50, 50, 256)      0         \n",
      " 2D)                                                             \n",
      "                                                                 \n",
      " batch_normalization_5 (Batc  (None, 50, 50, 256)      1024      \n",
      " hNormalization)                                                 \n",
      "                                                                 \n",
      " conv2d_6 (Conv2D)           (None, 50, 50, 128)       295040    \n",
      "                                                                 \n",
      " max_pooling2d_6 (MaxPooling  (None, 25, 25, 128)      0         \n",
      " 2D)                                                             \n",
      "                                                                 \n",
      " batch_normalization_6 (Batc  (None, 25, 25, 128)      512       \n",
      " hNormalization)                                                 \n",
      "                                                                 \n",
      " conv2d_7 (Conv2D)           (None, 25, 25, 64)        73792     \n",
      "                                                                 \n",
      " max_pooling2d_7 (MaxPooling  (None, 12, 12, 64)       0         \n",
      " 2D)                                                             \n",
      "                                                                 \n",
      " batch_normalization_7 (Batc  (None, 12, 12, 64)       256       \n",
      " hNormalization)                                                 \n",
      "                                                                 \n",
      " conv2d_8 (Conv2D)           (None, 12, 12, 32)        18464     \n",
      "                                                                 \n",
      " max_pooling2d_8 (MaxPooling  (None, 6, 6, 32)         0         \n",
      " 2D)                                                             \n",
      "                                                                 \n",
      " batch_normalization_8 (Batc  (None, 6, 6, 32)         128       \n",
      " hNormalization)                                                 \n",
      "                                                                 \n",
      " conv2d_9 (Conv2D)           (None, 6, 6, 64)          18496     \n",
      "                                                                 \n",
      " max_pooling2d_9 (MaxPooling  (None, 3, 3, 64)         0         \n",
      " 2D)                                                             \n",
      "                                                                 \n",
      " batch_normalization_9 (Batc  (None, 3, 3, 64)         256       \n",
      " hNormalization)                                                 \n",
      "                                                                 \n",
      " dropout_2 (Dropout)         (None, 3, 3, 64)          0         \n",
      "                                                                 \n",
      " flatten_1 (Flatten)         (None, 576)               0         \n",
      "                                                                 \n",
      " dense_4 (Dense)             (None, 128)               73856     \n",
      "                                                                 \n",
      " dropout_3 (Dropout)         (None, 128)               0         \n",
      "                                                                 \n",
      " dense_5 (Dense)             (None, 64)                8256      \n",
      "                                                                 \n",
      " dense_6 (Dense)             (None, 32)                2080      \n",
      "                                                                 \n",
      " dense_7 (Dense)             (None, 3)                 99        \n",
      "                                                                 \n",
      "=================================================================\n",
      "Total params: 499,427\n",
      "Trainable params: 498,339\n",
      "Non-trainable params: 1,088\n",
      "_________________________________________________________________\n"
     ]
    }
   ],
   "source": [
    "model = Sequential([\n",
    "    Conv2D(256, (3,3), padding='same', activation='relu', input_shape=(100, 100, 3)),\n",
    "    MaxPooling2D((2,2), strides=2),\n",
    "    BatchNormalization(),\n",
    "\n",
    "    Conv2D(128, (3,3), padding='same', activation='relu'),\n",
    "    MaxPooling2D((2,2), strides=2),\n",
    "    BatchNormalization(),\n",
    " \n",
    "\n",
    "    Conv2D(64, (3,3), padding='same', activation='relu'),\n",
    "    MaxPooling2D((2,2), strides=2),\n",
    "    BatchNormalization(),\n",
    "\n",
    "\n",
    "    Conv2D(32, (3,3), padding='same', activation='relu'),\n",
    "    MaxPooling2D((2,2), strides=2),\n",
    "    BatchNormalization(),\n",
    "\n",
    "    \n",
    "    Conv2D(64, (3,3), padding='same', activation='relu'),\n",
    "    MaxPooling2D((2,2), strides=2),\n",
    "    BatchNormalization(),\n",
    "\n",
    "    # Conv2D(128, (2,2), padding='same', activation='relu'),\n",
    "    # MaxPooling2D((2,2), strides=2),\n",
    "    # BatchNormalization(),\n",
    "    \n",
    "    # Conv2D(256, (2,2), padding='same', activation='relu'),\n",
    "    # MaxPooling2D((2,2), strides=2),\n",
    "    # BatchNormalization(),\n",
    "    \n",
    "    Dropout(0.3),\n",
    "    Flatten(),\n",
    "    Dense(128, activation='relu'),\n",
    "    Dropout(0.8),\n",
    "    Dense(64, activation='relu'),\n",
    "    Dense(32, activation='relu'),\n",
    "    Dense(3, activation='softmax')\n",
    "])\n",
    "\n",
    "model.summary()"
   ]
  },
  {
   "cell_type": "code",
   "execution_count": null,
   "metadata": {},
   "outputs": [
    {
     "name": "stdout",
     "output_type": "stream",
     "text": [
      "Epoch 1/50\n"
     ]
    },
    {
     "name": "stderr",
     "output_type": "stream",
     "text": [
      "2022-12-28 17:53:23.458728: W tensorflow/tsl/framework/cpu_allocator_impl.cc:82] Allocation of 230400000 exceeds 10% of free system memory.\n",
      "2022-12-28 17:53:28.155455: W tensorflow/tsl/framework/cpu_allocator_impl.cc:82] Allocation of 57600000 exceeds 10% of free system memory.\n",
      "2022-12-28 17:53:28.182109: W tensorflow/tsl/framework/cpu_allocator_impl.cc:82] Allocation of 4915200000 exceeds 10% of free system memory.\n"
     ]
    }
   ],
   "source": [
    "model.compile(optimizer='adam', loss='categorical_crossentropy', metrics=['accuracy'])\n",
    "history = model.fit(train_generator,epochs=50,verbose=1) "
   ]
  },
  {
   "cell_type": "code",
   "execution_count": null,
   "metadata": {},
   "outputs": [],
   "source": []
  }
 ],
 "metadata": {
  "kernelspec": {
   "display_name": "Python 3 (ipykernel)",
   "language": "python",
   "name": "python3"
  },
  "language_info": {
   "codemirror_mode": {
    "name": "ipython",
    "version": 3
   },
   "file_extension": ".py",
   "mimetype": "text/x-python",
   "name": "python",
   "nbconvert_exporter": "python",
   "pygments_lexer": "ipython3",
   "version": "3.8.10"
  }
 },
 "nbformat": 4,
 "nbformat_minor": 4
}
